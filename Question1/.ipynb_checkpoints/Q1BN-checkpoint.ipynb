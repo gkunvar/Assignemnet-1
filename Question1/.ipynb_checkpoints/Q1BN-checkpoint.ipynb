{
 "cells": [
  {
   "cell_type": "code",
   "execution_count": 3,
   "id": "17026064-bfe1-4c27-b5c8-50c7371d7d92",
   "metadata": {},
   "outputs": [],
   "source": [
    "import numpy as np"
   ]
  },
  {
   "cell_type": "code",
   "execution_count": 4,
   "id": "50b4b792-73b5-443a-8a83-784560facd33",
   "metadata": {},
   "outputs": [],
   "source": [
    "import pandas as pd"
   ]
  },
  {
   "cell_type": "code",
   "execution_count": 5,
   "id": "e5b6fb9e-35b0-4b7c-a610-4cc6400dd8a7",
   "metadata": {},
   "outputs": [],
   "source": [
    "import re"
   ]
  },
  {
   "cell_type": "code",
   "execution_count": 6,
   "id": "be127860-6e22-42e8-b11f-bc68728f7a62",
   "metadata": {},
   "outputs": [],
   "source": [
    "df1 = pd.read_csv('df_1.csv')"
   ]
  },
  {
   "cell_type": "code",
   "execution_count": 7,
   "id": "ff376dcd-313f-410a-bcf8-c5ba8ebe6638",
   "metadata": {},
   "outputs": [
    {
     "data": {
      "text/html": [
       "<div>\n",
       "<style scoped>\n",
       "    .dataframe tbody tr th:only-of-type {\n",
       "        vertical-align: middle;\n",
       "    }\n",
       "\n",
       "    .dataframe tbody tr th {\n",
       "        vertical-align: top;\n",
       "    }\n",
       "\n",
       "    .dataframe thead th {\n",
       "        text-align: right;\n",
       "    }\n",
       "</style>\n",
       "<table border=\"1\" class=\"dataframe\">\n",
       "  <thead>\n",
       "    <tr style=\"text-align: right;\">\n",
       "      <th></th>\n",
       "      <th>RM</th>\n",
       "    </tr>\n",
       "  </thead>\n",
       "  <tbody>\n",
       "    <tr>\n",
       "      <th>0</th>\n",
       "      <td>WINNIPEG</td>\n",
       "    </tr>\n",
       "    <tr>\n",
       "      <th>1</th>\n",
       "      <td>BIFROST-RIVERTON</td>\n",
       "    </tr>\n",
       "    <tr>\n",
       "      <th>2</th>\n",
       "      <td>EMERSON-FRANKLIN</td>\n",
       "    </tr>\n",
       "    <tr>\n",
       "      <th>3</th>\n",
       "      <td>ROCKWOOD</td>\n",
       "    </tr>\n",
       "    <tr>\n",
       "      <th>4</th>\n",
       "      <td>ARMSTRONG</td>\n",
       "    </tr>\n",
       "    <tr>\n",
       "      <th>...</th>\n",
       "      <td>...</td>\n",
       "    </tr>\n",
       "    <tr>\n",
       "      <th>472</th>\n",
       "      <td>MUNICIPAL DISTRICT OF FAIRVIEW NO. 136</td>\n",
       "    </tr>\n",
       "    <tr>\n",
       "      <th>473</th>\n",
       "      <td>CLEAR HILLS</td>\n",
       "    </tr>\n",
       "    <tr>\n",
       "      <th>474</th>\n",
       "      <td>Grande Prairie</td>\n",
       "    </tr>\n",
       "    <tr>\n",
       "      <th>475</th>\n",
       "      <td>SADDLE HILLS</td>\n",
       "    </tr>\n",
       "    <tr>\n",
       "      <th>476</th>\n",
       "      <td>MUNICIPAL DISTRICT OF SPIRIT RIVER NO. 133</td>\n",
       "    </tr>\n",
       "  </tbody>\n",
       "</table>\n",
       "<p>477 rows × 1 columns</p>\n",
       "</div>"
      ],
      "text/plain": [
       "                                             RM\n",
       "0                                      WINNIPEG\n",
       "1                              BIFROST-RIVERTON\n",
       "2                              EMERSON-FRANKLIN\n",
       "3                                      ROCKWOOD\n",
       "4                                     ARMSTRONG\n",
       "..                                          ...\n",
       "472      MUNICIPAL DISTRICT OF FAIRVIEW NO. 136\n",
       "473                                CLEAR HILLS \n",
       "474                              Grande Prairie\n",
       "475                               SADDLE HILLS \n",
       "476  MUNICIPAL DISTRICT OF SPIRIT RIVER NO. 133\n",
       "\n",
       "[477 rows x 1 columns]"
      ]
     },
     "execution_count": 7,
     "metadata": {},
     "output_type": "execute_result"
    }
   ],
   "source": [
    "df1"
   ]
  },
  {
   "cell_type": "code",
   "execution_count": 8,
   "id": "b0c5ec17-d478-4fa6-a742-117fabfbaebc",
   "metadata": {},
   "outputs": [],
   "source": [
    "df2 = pd.read_csv('df_2.csv')"
   ]
  },
  {
   "cell_type": "code",
   "execution_count": 9,
   "id": "6d2605cb-58f6-47f6-8ca6-b23719451ec7",
   "metadata": {},
   "outputs": [
    {
     "data": {
      "text/html": [
       "<div>\n",
       "<style scoped>\n",
       "    .dataframe tbody tr th:only-of-type {\n",
       "        vertical-align: middle;\n",
       "    }\n",
       "\n",
       "    .dataframe tbody tr th {\n",
       "        vertical-align: top;\n",
       "    }\n",
       "\n",
       "    .dataframe thead th {\n",
       "        text-align: right;\n",
       "    }\n",
       "</style>\n",
       "<table border=\"1\" class=\"dataframe\">\n",
       "  <thead>\n",
       "    <tr style=\"text-align: right;\">\n",
       "      <th></th>\n",
       "      <th>RM</th>\n",
       "    </tr>\n",
       "  </thead>\n",
       "  <tbody>\n",
       "    <tr>\n",
       "      <th>0</th>\n",
       "      <td>1</td>\n",
       "    </tr>\n",
       "    <tr>\n",
       "      <th>1</th>\n",
       "      <td>10</td>\n",
       "    </tr>\n",
       "    <tr>\n",
       "      <th>2</th>\n",
       "      <td>100</td>\n",
       "    </tr>\n",
       "    <tr>\n",
       "      <th>3</th>\n",
       "      <td>101</td>\n",
       "    </tr>\n",
       "    <tr>\n",
       "      <th>4</th>\n",
       "      <td>102</td>\n",
       "    </tr>\n",
       "    <tr>\n",
       "      <th>...</th>\n",
       "      <td>...</td>\n",
       "    </tr>\n",
       "    <tr>\n",
       "      <th>459</th>\n",
       "      <td>Wheatland</td>\n",
       "    </tr>\n",
       "    <tr>\n",
       "      <th>460</th>\n",
       "      <td>Willow Creek</td>\n",
       "    </tr>\n",
       "    <tr>\n",
       "      <th>461</th>\n",
       "      <td>Woodlands County</td>\n",
       "    </tr>\n",
       "    <tr>\n",
       "      <th>462</th>\n",
       "      <td>YELLOWHEAD</td>\n",
       "    </tr>\n",
       "    <tr>\n",
       "      <th>463</th>\n",
       "      <td>Yellowhead County</td>\n",
       "    </tr>\n",
       "  </tbody>\n",
       "</table>\n",
       "<p>464 rows × 1 columns</p>\n",
       "</div>"
      ],
      "text/plain": [
       "                    RM\n",
       "0                    1\n",
       "1                   10\n",
       "2                  100\n",
       "3                  101\n",
       "4                  102\n",
       "..                 ...\n",
       "459          Wheatland\n",
       "460       Willow Creek\n",
       "461   Woodlands County\n",
       "462         YELLOWHEAD\n",
       "463  Yellowhead County\n",
       "\n",
       "[464 rows x 1 columns]"
      ]
     },
     "execution_count": 9,
     "metadata": {},
     "output_type": "execute_result"
    }
   ],
   "source": [
    "df2"
   ]
  },
  {
   "cell_type": "code",
   "execution_count": 10,
   "id": "36e83a13-614e-42bc-aa86-c5d05b3d112f",
   "metadata": {},
   "outputs": [],
   "source": [
    "def clean_text(text):\n",
    "    # Remove special characters and digits\n",
    "    text_cleaned = re.sub(r'[^a-zA-Z0-9\\s]', '', text)  # Keeps only letters and spaces\n",
    "    # Remove spaces\n",
    "    text_cleaned = text_cleaned.replace(' ', '')\n",
    "    # Convert to uppercase\n",
    "    text_cleaned = text_cleaned.upper()\n",
    "    return text_cleaned"
   ]
  },
  {
   "cell_type": "code",
   "execution_count": 11,
   "id": "99d3fe7d-f753-4656-b1ca-4a6d15813eb8",
   "metadata": {},
   "outputs": [],
   "source": [
    "dfc1 = df1['RM'].apply(clean_text)"
   ]
  },
  {
   "cell_type": "code",
   "execution_count": 12,
   "id": "81b5ba8b-f87e-4a32-9034-3c38aa900d32",
   "metadata": {},
   "outputs": [
    {
     "data": {
      "text/plain": [
       "0                                 WINNIPEG\n",
       "1                          BIFROSTRIVERTON\n",
       "2                          EMERSONFRANKLIN\n",
       "3                                 ROCKWOOD\n",
       "4                                ARMSTRONG\n",
       "                      ...                 \n",
       "472       MUNICIPALDISTRICTOFFAIRVIEWNO136\n",
       "473                             CLEARHILLS\n",
       "474                          GRANDEPRAIRIE\n",
       "475                            SADDLEHILLS\n",
       "476    MUNICIPALDISTRICTOFSPIRITRIVERNO133\n",
       "Name: RM, Length: 477, dtype: object"
      ]
     },
     "execution_count": 12,
     "metadata": {},
     "output_type": "execute_result"
    }
   ],
   "source": [
    "dfc1"
   ]
  },
  {
   "cell_type": "code",
   "execution_count": 13,
   "id": "5bb1602e-4760-4127-88a7-d112b69cb7b5",
   "metadata": {},
   "outputs": [],
   "source": [
    "dfc2 = df2['RM'].apply(clean_text)"
   ]
  },
  {
   "cell_type": "code",
   "execution_count": 14,
   "id": "fe4aae3c-e262-4730-8c56-1eec24f7d898",
   "metadata": {},
   "outputs": [
    {
     "data": {
      "text/plain": [
       "0                     1\n",
       "1                    10\n",
       "2                   100\n",
       "3                   101\n",
       "4                   102\n",
       "             ...       \n",
       "459           WHEATLAND\n",
       "460         WILLOWCREEK\n",
       "461     WOODLANDSCOUNTY\n",
       "462          YELLOWHEAD\n",
       "463    YELLOWHEADCOUNTY\n",
       "Name: RM, Length: 464, dtype: object"
      ]
     },
     "execution_count": 14,
     "metadata": {},
     "output_type": "execute_result"
    }
   ],
   "source": [
    "dfc2"
   ]
  },
  {
   "cell_type": "code",
   "execution_count": 15,
   "id": "ca18c491-a4ce-4c52-b71c-1b50f09b52e8",
   "metadata": {},
   "outputs": [
    {
     "data": {
      "text/plain": [
       "(464,)"
      ]
     },
     "execution_count": 15,
     "metadata": {},
     "output_type": "execute_result"
    }
   ],
   "source": [
    "dfc2.shape"
   ]
  },
  {
   "cell_type": "code",
   "execution_count": 16,
   "id": "7d607c03-b211-43c1-8051-f639b29085bb",
   "metadata": {},
   "outputs": [
    {
     "data": {
      "text/plain": [
       "(477,)"
      ]
     },
     "execution_count": 16,
     "metadata": {},
     "output_type": "execute_result"
    }
   ],
   "source": [
    "dfc1.shape"
   ]
  },
  {
   "cell_type": "code",
   "execution_count": 17,
   "id": "863cf758-8a39-424c-aee0-4bb55adeeb5f",
   "metadata": {},
   "outputs": [
    {
     "name": "stdout",
     "output_type": "stream",
     "text": [
      "<class 'pandas.core.series.Series'>\n",
      "RangeIndex: 464 entries, 0 to 463\n",
      "Series name: RM\n",
      "Non-Null Count  Dtype \n",
      "--------------  ----- \n",
      "464 non-null    object\n",
      "dtypes: object(1)\n",
      "memory usage: 3.8+ KB\n"
     ]
    }
   ],
   "source": [
    "dfc2.info()"
   ]
  },
  {
   "cell_type": "code",
   "execution_count": 18,
   "id": "5c9be788-99fe-402d-a05a-d3842a9b71f8",
   "metadata": {},
   "outputs": [],
   "source": [
    "df_allValues = pd.concat([dfc1,dfc2])"
   ]
  },
  {
   "cell_type": "code",
   "execution_count": 19,
   "id": "dcf883cf-b2a2-46e5-9ad0-ee11bf299da5",
   "metadata": {},
   "outputs": [],
   "source": [
    "unique_series = df_allValues.unique()"
   ]
  },
  {
   "cell_type": "code",
   "execution_count": 20,
   "id": "de0a78d9-0752-446c-9836-a3f0b88be403",
   "metadata": {},
   "outputs": [],
   "source": [
    "kalp = len(unique_series)"
   ]
  },
  {
   "cell_type": "code",
   "execution_count": 21,
   "id": "bcb15bb0-5b93-48f1-bf44-1ee14039829d",
   "metadata": {},
   "outputs": [
    {
     "data": {
      "text/plain": [
       "500"
      ]
     },
     "execution_count": 21,
     "metadata": {},
     "output_type": "execute_result"
    }
   ],
   "source": [
    "kalp"
   ]
  },
  {
   "cell_type": "code",
   "execution_count": 22,
   "id": "aa0d1dfe-6f60-4082-a53a-00253f27bf20",
   "metadata": {},
   "outputs": [
    {
     "data": {
      "text/plain": [
       "array(['WINNIPEG', 'BIFROSTRIVERTON', 'EMERSONFRANKLIN', 'ROCKWOOD',\n",
       "       'ARMSTRONG', 'GIMLI', 'WESTSTPAUL', 'SPRINGFIELD', 'STCLEMENTS',\n",
       "       'STANDREWS', 'RITCHOT', 'HANOVER', 'TACHE', 'DESALABERRY',\n",
       "       'REYNOLDS', 'LACDUBONNET', 'LABROQUERIE', 'STEANNE', 'BROKENHEAD',\n",
       "       'STUARTBURN', 'ALEXANDER', 'MONTCALM', 'MACDONALD', 'MORRIS',\n",
       "       'RHINELAND', 'HEADINGLEY', 'ROSSER', 'DALLASREDROSE', 'PINEY',\n",
       "       'WHITEMOUTH', 'PINAWA', 'FISHER', 'TWOBORDERS', 'NORTHNORFOLK',\n",
       "       'LORNE', 'NORFOLKTREHERNE', 'WESTINTERLAKE', 'GRAHAMDALE',\n",
       "       'PEMBINA', 'WESTLAKEGLADSTONE', 'CARTIER', 'SWANVALLEYWEST',\n",
       "       'ELLICEARCHIE', 'ROBLIN', 'WALLACEWOODWORTH', 'PIPESTONE',\n",
       "       'DELORAINEWINCHESTER', 'RUSSELLBINSCARTH', 'GRASSLAND',\n",
       "       'RIDINGMOUNTAINWEST', 'ROSSBURN', 'GRANDVIEW', 'HAMIOTA',\n",
       "       'YELLOWHEAD', 'MINITONASBOWSMAN', 'MOUNTAIN', 'BRENDAWASKADA',\n",
       "       'PRAIRIEVIEW', 'SIFTON', 'VIRDEN', 'MCCREARY', 'LAKESHORE',\n",
       "       'PRAIRIELAKES', 'GLENBOROSOUTHCYPRESS', 'KILLARNEYTURTLEMTN',\n",
       "       'WATERHEN', 'KELSEY', 'MEADOWPORTAGE', 'MINTOODANAH', 'CORNWALLIS',\n",
       "       'ELTON', 'MOSSEYRIVER', 'CLANWILLIAMERICKSON', 'BRANDON',\n",
       "       'OAKLANDWAWANESA', 'SALTPOINT', 'DAUPHIN', 'HARRISONPARK',\n",
       "       'BOISSEVAINMORTON', 'OAKVIEW', 'WOODLANDS', 'ALONSA', 'LOUISE',\n",
       "       'CARTWRIGHTROBLIN', 'NORTHCYPRESSLANGFORD', 'VICTORIA',\n",
       "       'GLENELLALANSDOWNE', 'ARGYLE', 'PORTAGELAPRAIRIE', 'DUFFERIN',\n",
       "       'GREY', 'THOMPSON', 'GILBERTPLAINS', 'WHITEHEAD', 'RIVERDALE',\n",
       "       'HARWILL', 'ETHELBERT', 'ROLAND', 'COLDWELL', 'STLAURENT',\n",
       "       'STANLEY', 'STFRANCISXAVIER', 'SOURISGLENWOOD', 'ROSEDALE',\n",
       "       'STEROSE', 'HOMEBROOKPEONANPOINT', '1', '31', '61', '91', '121',\n",
       "       '151', '152', '181', '211', '241', '271', '301', '331', '394', '2',\n",
       "       '32', '92', '122', '3', '33', '63', '93', '123', '153', '183',\n",
       "       '213', '243', '273', '303', '333', '4', '34', '64', '94', '124',\n",
       "       '154', '184', '214', '244', '274', '304', '334', '395', '5', '35',\n",
       "       '65', '95', '125', '185', '215', '245', '275', '305', '335', '486',\n",
       "       '155', '456', '426', '6', '36', '66', '96', '126', '186', '216',\n",
       "       '246', '276', '336', '366', '156', '488', '7', '37', '67', '97',\n",
       "       '127', '187', '217', '247', '277', '307', '337', '367', '397',\n",
       "       '427', '457', '487', '157', '8', '38', '68', '98', '128', '218',\n",
       "       '248', '279', '308', '338', '368', '398', '428', '458', '158', '9',\n",
       "       '39', '69', '99', '129', '159', '189', '219', '309', '339', '369',\n",
       "       '399', '429', '459', '220', '250', '10', '40', '70', '100', '130',\n",
       "       '160', '280', '310', '340', '370', '400', '430', '461', '490',\n",
       "       '520', '190', '221', '460', '251', '11', '71', '101', '131', '161',\n",
       "       '281', '312', '341', '371', '401', '431', '491', '42', '191',\n",
       "       '521', '222', '252', '342', '402', '12', '72', '102', '132', '162',\n",
       "       '282', '372', '43', '73', '103', '133', '163', '193', '223', '253',\n",
       "       '313', '343', '463', '493', '373', '403', '283', '314', '464',\n",
       "       '44', '74', '104', '134', '164', '194', '224', '254', '344', '434',\n",
       "       '494', '404', '284', '315', '345', '555', '45', '75', '105', '135',\n",
       "       '165', '255', '405', '225', '285', '435', '496', '466', '17', '46',\n",
       "       '76', '106', '136', '166', '226', '256', '316', '346', '376',\n",
       "       '286', '406', '436', '77', '107', '137', '167', '257', '287',\n",
       "       '317', '347', '377', '467', '497', '588', '228', '437', '438',\n",
       "       '18', '78', '108', '138', '168', '288', '318', '378', '409', '468',\n",
       "       '498', '259', '349', '379', '19', '49', '79', '109', '139', '169',\n",
       "       '229', '290', '319', '469', '499', '561', '350', '439', '470',\n",
       "       '622', '380', '110', '230', '260', '320', '410', '471', '501',\n",
       "       '351', '381', '440', '51', '171', '111', '141', '231', '261',\n",
       "       '321', '411', '442', '472', '502', '352', '382', '292', '322',\n",
       "       '142', '232', 'CYPRESS', 'SPECIALAREASNO2',\n",
       "       'MUNICIPALDISTRICTOFACADIANO34', 'SPECIALAREASNO3',\n",
       "       'SPECIALAREA04', 'PROVOST', 'WAINWRIGHT', 'VERMILIONRIVER',\n",
       "       'MUNICIPALDISTRICTOFBONNYVILLENO87', 'FORTYMILE\\t', 'PAINTEARTH',\n",
       "       'FLAGSTAFF', 'MINBURN', 'TWOHILLS\\t', 'STPAUL\\t', 'LACLABICHE',\n",
       "       'WARNER', 'NEWELL', 'BEAVER', 'SMOKYLAKE',\n",
       "       'MUNICIPALDISTRICTOFTABER', 'STETTLER', 'STARLAND', 'LAMONT',\n",
       "       'ATHABASCA', 'VULCAN', 'WHEATLAND', 'CAMROSE', 'THORHILD',\n",
       "       'LETHBRIDGE', 'CARDSTON', 'MUNICIPALDISTRICTOFOPPORTUNITYNO17',\n",
       "       'KNEEHILL', 'STRATHCONA', 'IDNO13ELKISLAND', 'STURGEON', 'REDDEER',\n",
       "       'LEDUC', 'LACOMBE', 'PONOKA', 'WETASKIWIN', 'WESTLOCK',\n",
       "       'MUNICIPALDISTRICTOFLESSERSLAVERIVERNO124', 'WILLOWCREEK',\n",
       "       'ROCKYVIEW', 'FOOTHILLS', 'PARKLAND', 'MOUNTAINVIEW',\n",
       "       'PINCHERCREEK', 'IDNO4WATERTON',\n",
       "       'MUNICIPALDISTRICTOFRANCHLANDNO66', 'LACSTEANNE', 'BARRHEAD',\n",
       "       'MACKENZIE', 'CLEARWATER', 'BRAZEAU', 'BIGLAKES',\n",
       "       'NORTHERNSUNRISE', 'NORTHERNLIGHTS',\n",
       "       'MUNICIPALDISTRICTOFGREENVIEWNO16',\n",
       "       'MUNICIPALDISTRICTOFSMOKYRIVERNO130',\n",
       "       'MUNICIPALDISTRICTOFPEACENO135', 'BIRCHHILLS',\n",
       "       'KANANASKISIMPROVEMENTDISTRICT', 'MUNICIPALITYOFCROWSNESTPASS',\n",
       "       'MUNICIPALDISTRICTOFBIGHORNNO8',\n",
       "       'MUNICIPALDISTRICTOFFAIRVIEWNO136', 'CLEARHILLS', 'GRANDEPRAIRIE',\n",
       "       'SADDLEHILLS', 'MUNICIPALDISTRICTOFSPIRITRIVERNO133', '278',\n",
       "       'ACADIA', 'BADLANDS', 'BONNYVILLE', 'EASTSTPAUL', 'EDMONTON',\n",
       "       'FAIRVIEW', 'FORTYMILE', 'GREENVIEW', 'HILLSBURGROBLINSHELLRIVER',\n",
       "       'LACSTEANNECOUNTY', 'LESSERSLAVERIVER', 'OPPORTUNITY',\n",
       "       'PARKLANDCOUNTY', 'PEACE', 'SASKATCHEWAN', 'SMOKYRIVER',\n",
       "       'SPECIALAREA02', 'SPECIALAREA03', 'SPIRITRIVER', 'STPAUL',\n",
       "       'STRATHCONACOUNTY', 'TABER', 'TWOHILLS', 'UNORGTERRITORY',\n",
       "       'WOODLANDSCOUNTY', 'YELLOWHEADCOUNTY'], dtype=object)"
      ]
     },
     "execution_count": 22,
     "metadata": {},
     "output_type": "execute_result"
    }
   ],
   "source": [
    "unique_series"
   ]
  },
  {
   "cell_type": "code",
   "execution_count": null,
   "id": "9bf85d43-b2f4-44b3-afd0-ff980d873bf2",
   "metadata": {},
   "outputs": [],
   "source": []
  }
 ],
 "metadata": {
  "kernelspec": {
   "display_name": "Python 3 (ipykernel)",
   "language": "python",
   "name": "python3"
  },
  "language_info": {
   "codemirror_mode": {
    "name": "ipython",
    "version": 3
   },
   "file_extension": ".py",
   "mimetype": "text/x-python",
   "name": "python",
   "nbconvert_exporter": "python",
   "pygments_lexer": "ipython3",
   "version": "3.12.3"
  }
 },
 "nbformat": 4,
 "nbformat_minor": 5
}
