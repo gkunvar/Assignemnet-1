{
 "cells": [
  {
   "cell_type": "code",
   "execution_count": 1,
   "id": "17026064-bfe1-4c27-b5c8-50c7371d7d92",
   "metadata": {},
   "outputs": [],
   "source": [
    "import numpy as np"
   ]
  },
  {
   "cell_type": "code",
   "execution_count": 2,
   "id": "50b4b792-73b5-443a-8a83-784560facd33",
   "metadata": {},
   "outputs": [],
   "source": [
    "import pandas as pd"
   ]
  },
  {
   "cell_type": "code",
   "execution_count": 3,
   "id": "e5b6fb9e-35b0-4b7c-a610-4cc6400dd8a7",
   "metadata": {},
   "outputs": [],
   "source": [
    "import re"
   ]
  },
  {
   "cell_type": "code",
   "execution_count": 4,
   "id": "be127860-6e22-42e8-b11f-bc68728f7a62",
   "metadata": {},
   "outputs": [],
   "source": [
    "df1 = pd.read_csv('df_1.csv')"
   ]
  },
  {
   "cell_type": "code",
   "execution_count": 5,
   "id": "ff376dcd-313f-410a-bcf8-c5ba8ebe6638",
   "metadata": {},
   "outputs": [
    {
     "data": {
      "text/html": [
       "<div>\n",
       "<style scoped>\n",
       "    .dataframe tbody tr th:only-of-type {\n",
       "        vertical-align: middle;\n",
       "    }\n",
       "\n",
       "    .dataframe tbody tr th {\n",
       "        vertical-align: top;\n",
       "    }\n",
       "\n",
       "    .dataframe thead th {\n",
       "        text-align: right;\n",
       "    }\n",
       "</style>\n",
       "<table border=\"1\" class=\"dataframe\">\n",
       "  <thead>\n",
       "    <tr style=\"text-align: right;\">\n",
       "      <th></th>\n",
       "      <th>RM</th>\n",
       "    </tr>\n",
       "  </thead>\n",
       "  <tbody>\n",
       "    <tr>\n",
       "      <th>0</th>\n",
       "      <td>WINNIPEG</td>\n",
       "    </tr>\n",
       "    <tr>\n",
       "      <th>1</th>\n",
       "      <td>BIFROST-RIVERTON</td>\n",
       "    </tr>\n",
       "    <tr>\n",
       "      <th>2</th>\n",
       "      <td>EMERSON-FRANKLIN</td>\n",
       "    </tr>\n",
       "    <tr>\n",
       "      <th>3</th>\n",
       "      <td>ROCKWOOD</td>\n",
       "    </tr>\n",
       "    <tr>\n",
       "      <th>4</th>\n",
       "      <td>ARMSTRONG</td>\n",
       "    </tr>\n",
       "    <tr>\n",
       "      <th>...</th>\n",
       "      <td>...</td>\n",
       "    </tr>\n",
       "    <tr>\n",
       "      <th>472</th>\n",
       "      <td>MUNICIPAL DISTRICT OF FAIRVIEW NO. 136</td>\n",
       "    </tr>\n",
       "    <tr>\n",
       "      <th>473</th>\n",
       "      <td>CLEAR HILLS</td>\n",
       "    </tr>\n",
       "    <tr>\n",
       "      <th>474</th>\n",
       "      <td>Grande Prairie</td>\n",
       "    </tr>\n",
       "    <tr>\n",
       "      <th>475</th>\n",
       "      <td>SADDLE HILLS</td>\n",
       "    </tr>\n",
       "    <tr>\n",
       "      <th>476</th>\n",
       "      <td>MUNICIPAL DISTRICT OF SPIRIT RIVER NO. 133</td>\n",
       "    </tr>\n",
       "  </tbody>\n",
       "</table>\n",
       "<p>477 rows × 1 columns</p>\n",
       "</div>"
      ],
      "text/plain": [
       "                                             RM\n",
       "0                                      WINNIPEG\n",
       "1                              BIFROST-RIVERTON\n",
       "2                              EMERSON-FRANKLIN\n",
       "3                                      ROCKWOOD\n",
       "4                                     ARMSTRONG\n",
       "..                                          ...\n",
       "472      MUNICIPAL DISTRICT OF FAIRVIEW NO. 136\n",
       "473                                CLEAR HILLS \n",
       "474                              Grande Prairie\n",
       "475                               SADDLE HILLS \n",
       "476  MUNICIPAL DISTRICT OF SPIRIT RIVER NO. 133\n",
       "\n",
       "[477 rows x 1 columns]"
      ]
     },
     "execution_count": 5,
     "metadata": {},
     "output_type": "execute_result"
    }
   ],
   "source": [
    "df1"
   ]
  },
  {
   "cell_type": "code",
   "execution_count": 6,
   "id": "b0c5ec17-d478-4fa6-a742-117fabfbaebc",
   "metadata": {},
   "outputs": [],
   "source": [
    "df2 = pd.read_csv('df_2.csv')"
   ]
  },
  {
   "cell_type": "code",
   "execution_count": 7,
   "id": "6d2605cb-58f6-47f6-8ca6-b23719451ec7",
   "metadata": {},
   "outputs": [
    {
     "data": {
      "text/html": [
       "<div>\n",
       "<style scoped>\n",
       "    .dataframe tbody tr th:only-of-type {\n",
       "        vertical-align: middle;\n",
       "    }\n",
       "\n",
       "    .dataframe tbody tr th {\n",
       "        vertical-align: top;\n",
       "    }\n",
       "\n",
       "    .dataframe thead th {\n",
       "        text-align: right;\n",
       "    }\n",
       "</style>\n",
       "<table border=\"1\" class=\"dataframe\">\n",
       "  <thead>\n",
       "    <tr style=\"text-align: right;\">\n",
       "      <th></th>\n",
       "      <th>RM</th>\n",
       "    </tr>\n",
       "  </thead>\n",
       "  <tbody>\n",
       "    <tr>\n",
       "      <th>0</th>\n",
       "      <td>1</td>\n",
       "    </tr>\n",
       "    <tr>\n",
       "      <th>1</th>\n",
       "      <td>10</td>\n",
       "    </tr>\n",
       "    <tr>\n",
       "      <th>2</th>\n",
       "      <td>100</td>\n",
       "    </tr>\n",
       "    <tr>\n",
       "      <th>3</th>\n",
       "      <td>101</td>\n",
       "    </tr>\n",
       "    <tr>\n",
       "      <th>4</th>\n",
       "      <td>102</td>\n",
       "    </tr>\n",
       "    <tr>\n",
       "      <th>...</th>\n",
       "      <td>...</td>\n",
       "    </tr>\n",
       "    <tr>\n",
       "      <th>459</th>\n",
       "      <td>Wheatland</td>\n",
       "    </tr>\n",
       "    <tr>\n",
       "      <th>460</th>\n",
       "      <td>Willow Creek</td>\n",
       "    </tr>\n",
       "    <tr>\n",
       "      <th>461</th>\n",
       "      <td>Woodlands County</td>\n",
       "    </tr>\n",
       "    <tr>\n",
       "      <th>462</th>\n",
       "      <td>YELLOWHEAD</td>\n",
       "    </tr>\n",
       "    <tr>\n",
       "      <th>463</th>\n",
       "      <td>Yellowhead County</td>\n",
       "    </tr>\n",
       "  </tbody>\n",
       "</table>\n",
       "<p>464 rows × 1 columns</p>\n",
       "</div>"
      ],
      "text/plain": [
       "                    RM\n",
       "0                    1\n",
       "1                   10\n",
       "2                  100\n",
       "3                  101\n",
       "4                  102\n",
       "..                 ...\n",
       "459          Wheatland\n",
       "460       Willow Creek\n",
       "461   Woodlands County\n",
       "462         YELLOWHEAD\n",
       "463  Yellowhead County\n",
       "\n",
       "[464 rows x 1 columns]"
      ]
     },
     "execution_count": 7,
     "metadata": {},
     "output_type": "execute_result"
    }
   ],
   "source": [
    "df2"
   ]
  },
  {
   "cell_type": "code",
   "execution_count": 8,
   "id": "36e83a13-614e-42bc-aa86-c5d05b3d112f",
   "metadata": {},
   "outputs": [],
   "source": [
    "def clean_text(text):\n",
    "    # Remove special characters and digits\n",
    "    text_cleaned = re.sub(r'[^a-zA-Z0-9\\s]', '', text)  # Keeps only letters and spaces\n",
    "    # Remove spaces\n",
    "    # Convert to uppercase\n",
    "    text_cleaned = text_cleaned.upper()\n",
    "    return text_cleaned"
   ]
  },
  {
   "cell_type": "code",
   "execution_count": 9,
   "id": "99d3fe7d-f753-4656-b1ca-4a6d15813eb8",
   "metadata": {},
   "outputs": [],
   "source": [
    "dfc1 = df1['RM'].apply(clean_text).str.strip()"
   ]
  },
  {
   "cell_type": "code",
   "execution_count": 10,
   "id": "81b5ba8b-f87e-4a32-9034-3c38aa900d32",
   "metadata": {},
   "outputs": [
    {
     "data": {
      "text/plain": [
       "0                                       WINNIPEG\n",
       "1                                BIFROSTRIVERTON\n",
       "2                                EMERSONFRANKLIN\n",
       "3                                       ROCKWOOD\n",
       "4                                      ARMSTRONG\n",
       "                         ...                    \n",
       "472        MUNICIPAL DISTRICT OF FAIRVIEW NO 136\n",
       "473                                  CLEAR HILLS\n",
       "474                               GRANDE PRAIRIE\n",
       "475                                 SADDLE HILLS\n",
       "476    MUNICIPAL DISTRICT OF SPIRIT RIVER NO 133\n",
       "Name: RM, Length: 477, dtype: object"
      ]
     },
     "execution_count": 10,
     "metadata": {},
     "output_type": "execute_result"
    }
   ],
   "source": [
    "dfc1"
   ]
  },
  {
   "cell_type": "code",
   "execution_count": 11,
   "id": "5bb1602e-4760-4127-88a7-d112b69cb7b5",
   "metadata": {},
   "outputs": [],
   "source": [
    "dfc2 = df2['RM'].apply(clean_text).str.strip()"
   ]
  },
  {
   "cell_type": "code",
   "execution_count": 12,
   "id": "fe4aae3c-e262-4730-8c56-1eec24f7d898",
   "metadata": {},
   "outputs": [
    {
     "data": {
      "text/plain": [
       "0                      1\n",
       "1                     10\n",
       "2                    100\n",
       "3                    101\n",
       "4                    102\n",
       "             ...        \n",
       "459            WHEATLAND\n",
       "460         WILLOW CREEK\n",
       "461     WOODLANDS COUNTY\n",
       "462           YELLOWHEAD\n",
       "463    YELLOWHEAD COUNTY\n",
       "Name: RM, Length: 464, dtype: object"
      ]
     },
     "execution_count": 12,
     "metadata": {},
     "output_type": "execute_result"
    }
   ],
   "source": [
    "dfc2"
   ]
  },
  {
   "cell_type": "code",
   "execution_count": 13,
   "id": "ca18c491-a4ce-4c52-b71c-1b50f09b52e8",
   "metadata": {},
   "outputs": [
    {
     "data": {
      "text/plain": [
       "(464,)"
      ]
     },
     "execution_count": 13,
     "metadata": {},
     "output_type": "execute_result"
    }
   ],
   "source": [
    "dfc2.shape"
   ]
  },
  {
   "cell_type": "code",
   "execution_count": 14,
   "id": "7d607c03-b211-43c1-8051-f639b29085bb",
   "metadata": {},
   "outputs": [
    {
     "data": {
      "text/plain": [
       "(477,)"
      ]
     },
     "execution_count": 14,
     "metadata": {},
     "output_type": "execute_result"
    }
   ],
   "source": [
    "dfc1.shape"
   ]
  },
  {
   "cell_type": "code",
   "execution_count": 15,
   "id": "863cf758-8a39-424c-aee0-4bb55adeeb5f",
   "metadata": {},
   "outputs": [
    {
     "name": "stdout",
     "output_type": "stream",
     "text": [
      "<class 'pandas.core.series.Series'>\n",
      "RangeIndex: 464 entries, 0 to 463\n",
      "Series name: RM\n",
      "Non-Null Count  Dtype \n",
      "--------------  ----- \n",
      "464 non-null    object\n",
      "dtypes: object(1)\n",
      "memory usage: 3.8+ KB\n"
     ]
    }
   ],
   "source": [
    "dfc2.info()"
   ]
  },
  {
   "cell_type": "code",
   "execution_count": 16,
   "id": "5c9be788-99fe-402d-a05a-d3842a9b71f8",
   "metadata": {},
   "outputs": [],
   "source": [
    "df_allValues = pd.concat([dfc1,dfc2])"
   ]
  },
  {
   "cell_type": "code",
   "execution_count": 17,
   "id": "dcf883cf-b2a2-46e5-9ad0-ee11bf299da5",
   "metadata": {},
   "outputs": [],
   "source": [
    "unique_series = df_allValues.unique()"
   ]
  },
  {
   "cell_type": "code",
   "execution_count": 18,
   "id": "de0a78d9-0752-446c-9836-a3f0b88be403",
   "metadata": {},
   "outputs": [],
   "source": [
    "kalp = len(unique_series)"
   ]
  },
  {
   "cell_type": "code",
   "execution_count": 19,
   "id": "bcb15bb0-5b93-48f1-bf44-1ee14039829d",
   "metadata": {},
   "outputs": [
    {
     "data": {
      "text/plain": [
       "497"
      ]
     },
     "execution_count": 19,
     "metadata": {},
     "output_type": "execute_result"
    }
   ],
   "source": [
    "kalp"
   ]
  },
  {
   "cell_type": "code",
   "execution_count": 20,
   "id": "aa0d1dfe-6f60-4082-a53a-00253f27bf20",
   "metadata": {},
   "outputs": [
    {
     "data": {
      "text/plain": [
       "array(['WINNIPEG', 'BIFROSTRIVERTON', 'EMERSONFRANKLIN', 'ROCKWOOD',\n",
       "       'ARMSTRONG', 'GIMLI', 'WEST ST PAUL', 'SPRINGFIELD', 'ST CLEMENTS',\n",
       "       'ST ANDREWS', 'RITCHOT', 'HANOVER', 'TACHE', 'DESALABERRY',\n",
       "       'REYNOLDS', 'LAC DU BONNET', 'LA BROQUERIE', 'STE ANNE',\n",
       "       'BROKENHEAD', 'STUARTBURN', 'ALEXANDER', 'MONTCALM', 'MACDONALD',\n",
       "       'MORRIS', 'RHINELAND', 'HEADINGLEY', 'ROSSER', 'DALLASRED ROSE',\n",
       "       'PINEY', 'WHITEMOUTH', 'PINAWA', 'FISHER', 'TWO BORDERS',\n",
       "       'NORTH NORFOLK', 'LORNE', 'NORFOLKTREHERNE', 'WEST INTERLAKE',\n",
       "       'GRAHAMDALE', 'PEMBINA', 'WESTLAKEGLADSTONE', 'CARTIER',\n",
       "       'SWAN VALLEY WEST', 'ELLICEARCHIE', 'ROBLIN', 'WALLACEWOODWORTH',\n",
       "       'PIPESTONE', 'DELORAINEWINCHESTER', 'RUSSELLBINSCARTH',\n",
       "       'GRASSLAND', 'RIDING MOUNTAIN WEST', 'ROSSBURN', 'GRANDVIEW',\n",
       "       'HAMIOTA', 'YELLOWHEAD', 'MINITONASBOWSMAN', 'MOUNTAIN',\n",
       "       'BRENDAWASKADA', 'PRAIRIE VIEW', 'SIFTON', 'VIRDEN', 'MCCREARY',\n",
       "       'LAKESHORE', 'PRAIRIE LAKES', 'GLENBOROSOUTH CYPRESS',\n",
       "       'KILLARNEYTURTLE MTN', 'WATERHEN', 'KELSEY', 'MEADOW PORTAGE',\n",
       "       'MINTOODANAH', 'CORNWALLIS', 'ELTON', 'MOSSEY RIVER',\n",
       "       'CLANWILLIAMERICKSON', 'BRANDON', 'OAKLANDWAWANESA', 'SALT POINT',\n",
       "       'DAUPHIN', 'HARRISON PARK', 'BOISSEVAINMORTON', 'OAKVIEW',\n",
       "       'WOODLANDS', 'ALONSA', 'LOUISE', 'CARTWRIGHTROBLIN',\n",
       "       'NORTH CYPRESSLANGFORD', 'VICTORIA', 'GLENELLALANSDOWNE', 'ARGYLE',\n",
       "       'PORTAGE LA PRAIRIE', 'DUFFERIN', 'GREY', 'THOMPSON',\n",
       "       'GILBERT PLAINS', 'WHITEHEAD', 'RIVERDALE', 'HARWILL', 'ETHELBERT',\n",
       "       'ROLAND', 'COLDWELL', 'ST LAURENT', 'STANLEY', 'ST FRANCIS XAVIER',\n",
       "       'SOURISGLENWOOD', 'ROSEDALE', 'STE ROSE', 'HOMEBROOKPEONAN POINT',\n",
       "       '1', '31', '61', '91', '121', '151', '152', '181', '211', '241',\n",
       "       '271', '301', '331', '394', '2', '32', '92', '122', '3', '33',\n",
       "       '63', '93', '123', '153', '183', '213', '243', '273', '303', '333',\n",
       "       '4', '34', '64', '94', '124', '154', '184', '214', '244', '274',\n",
       "       '304', '334', '395', '5', '35', '65', '95', '125', '185', '215',\n",
       "       '245', '275', '305', '335', '486', '155', '456', '426', '6', '36',\n",
       "       '66', '96', '126', '186', '216', '246', '276', '336', '366', '156',\n",
       "       '488', '7', '37', '67', '97', '127', '187', '217', '247', '277',\n",
       "       '307', '337', '367', '397', '427', '457', '487', '157', '8', '38',\n",
       "       '68', '98', '128', '218', '248', '279', '308', '338', '368', '398',\n",
       "       '428', '458', '158', '9', '39', '69', '99', '129', '159', '189',\n",
       "       '219', '309', '339', '369', '399', '429', '459', '220', '250',\n",
       "       '10', '40', '70', '100', '130', '160', '280', '310', '340', '370',\n",
       "       '400', '430', '461', '490', '520', '190', '221', '460', '251',\n",
       "       '11', '71', '101', '131', '161', '281', '312', '341', '371', '401',\n",
       "       '431', '491', '42', '191', '521', '222', '252', '342', '402', '12',\n",
       "       '72', '102', '132', '162', '282', '372', '43', '73', '103', '133',\n",
       "       '163', '193', '223', '253', '313', '343', '463', '493', '373',\n",
       "       '403', '283', '314', '464', '44', '74', '104', '134', '164', '194',\n",
       "       '224', '254', '344', '434', '494', '404', '284', '315', '345',\n",
       "       '555', '45', '75', '105', '135', '165', '255', '405', '225', '285',\n",
       "       '435', '496', '466', '17', '46', '76', '106', '136', '166', '226',\n",
       "       '256', '316', '346', '376', '286', '406', '436', '77', '107',\n",
       "       '137', '167', '257', '287', '317', '347', '377', '467', '497',\n",
       "       '588', '228', '437', '438', '18', '78', '108', '138', '168', '288',\n",
       "       '318', '378', '409', '468', '498', '259', '349', '379', '19', '49',\n",
       "       '79', '109', '139', '169', '229', '290', '319', '469', '499',\n",
       "       '561', '350', '439', '470', '622', '380', '110', '230', '260',\n",
       "       '320', '410', '471', '501', '351', '381', '440', '51', '171',\n",
       "       '111', '141', '231', '261', '321', '411', '442', '472', '502',\n",
       "       '352', '382', '292', '322', '142', '232', 'CYPRESS',\n",
       "       'SPECIAL AREAS NO 2', 'MUNICIPAL DISTRICT OF ACADIA NO 34',\n",
       "       'SPECIAL AREAS NO 3', 'SPECIAL AREA 04', 'PROVOST', 'WAINWRIGHT',\n",
       "       'VERMILION RIVER', 'MUNICIPAL DISTRICT OF BONNYVILLE NO 87',\n",
       "       'FORTY MILE', 'PAINTEARTH', 'FLAGSTAFF', 'MINBURN', 'TWO HILLS',\n",
       "       'ST PAUL', 'LAC LA BICHE', 'WARNER', 'NEWELL', 'BEAVER',\n",
       "       'SMOKY LAKE', 'MUNICIPAL DISTRICT OF TABER', 'STETTLER',\n",
       "       'STARLAND', 'LAMONT', 'ATHABASCA', 'VULCAN', 'WHEATLAND',\n",
       "       'CAMROSE', 'THORHILD', 'LETHBRIDGE', 'CARDSTON',\n",
       "       'MUNICIPAL DISTRICT OF OPPORTUNITY NO 17', 'KNEEHILL',\n",
       "       'STRATHCONA', 'ID NO 13 ELK ISLAND', 'STURGEON', 'RED DEER',\n",
       "       'LEDUC', 'LACOMBE', 'PONOKA', 'WETASKIWIN', 'WESTLOCK',\n",
       "       'MUNICIPAL DISTRICT OF LESSER SLAVE RIVER NO 124', 'WILLOW CREEK',\n",
       "       'ROCKY VIEW', 'FOOTHILLS', 'PARKLAND', 'MOUNTAIN VIEW',\n",
       "       'PINCHER CREEK', 'ID NO 4 WATERTON',\n",
       "       'MUNICIPAL DISTRICT OF RANCHLAND NO 66', 'LAC STE ANNE',\n",
       "       'BARRHEAD', 'MACKENZIE', 'CLEARWATER', 'BRAZEAU', 'BIG LAKES',\n",
       "       'NORTHERN SUNRISE', 'NORTHERN LIGHTS',\n",
       "       'MUNICIPAL DISTRICT OF GREENVIEW NO 16',\n",
       "       'MUNICIPAL DISTRICT OF SMOKY RIVER NO 130',\n",
       "       'MUNICIPAL DISTRICT OF PEACE NO 135', 'BIRCH HILLS',\n",
       "       'KANANASKIS IMPROVEMENT DISTRICT',\n",
       "       'MUNICIPALITY OF CROWSNEST PASS',\n",
       "       'MUNICIPAL DISTRICT OF BIGHORN NO 8',\n",
       "       'MUNICIPAL DISTRICT OF FAIRVIEW NO 136', 'CLEAR HILLS',\n",
       "       'GRANDE PRAIRIE', 'SADDLE HILLS',\n",
       "       'MUNICIPAL DISTRICT OF SPIRIT RIVER NO 133', '278', 'ACADIA',\n",
       "       'BADLANDS', 'BONNYVILLE', 'EAST ST PAUL', 'EDMONTON', 'FAIRVIEW',\n",
       "       'GREENVIEW', 'HILLSBURGROBLINSHELL RIVER', 'LAC STE ANNE COUNTY',\n",
       "       'LESSER SLAVE RIVER', 'OPPORTUNITY', 'PARKLAND COUNTY', 'PEACE',\n",
       "       'SASKATCHEWAN', 'SMOKY RIVER', 'SPECIAL AREA 02',\n",
       "       'SPECIAL AREA 03', 'SPIRIT RIVER', 'STRATHCONA COUNTY', 'TABER',\n",
       "       'UNORG TERRITORY', 'WOODLANDS COUNTY', 'YELLOWHEAD COUNTY'],\n",
       "      dtype=object)"
      ]
     },
     "execution_count": 20,
     "metadata": {},
     "output_type": "execute_result"
    }
   ],
   "source": [
    "unique_series"
   ]
  },
  {
   "cell_type": "code",
   "execution_count": null,
   "id": "9bf85d43-b2f4-44b3-afd0-ff980d873bf2",
   "metadata": {},
   "outputs": [],
   "source": []
  }
 ],
 "metadata": {
  "kernelspec": {
   "display_name": "Python 3 (ipykernel)",
   "language": "python",
   "name": "python3"
  },
  "language_info": {
   "codemirror_mode": {
    "name": "ipython",
    "version": 3
   },
   "file_extension": ".py",
   "mimetype": "text/x-python",
   "name": "python",
   "nbconvert_exporter": "python",
   "pygments_lexer": "ipython3",
   "version": "3.12.3"
  }
 },
 "nbformat": 4,
 "nbformat_minor": 5
}
